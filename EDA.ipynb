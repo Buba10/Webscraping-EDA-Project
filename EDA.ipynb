{
 "cells": [
  {
   "cell_type": "markdown",
   "metadata": {},
   "source": [
    "# Web Scraping"
   ]
  },
  {
   "cell_type": "markdown",
   "metadata": {},
   "source": [
    "## Requests"
   ]
  },
  {
   "cell_type": "markdown",
   "metadata": {},
   "source": [
    "### GET"
   ]
  },
  {
   "cell_type": "code",
   "execution_count": 1,
   "metadata": {},
   "outputs": [],
   "source": [
    "# ! pip install requests\n",
    "import requests"
   ]
  },
  {
   "cell_type": "code",
   "execution_count": 2,
   "metadata": {},
   "outputs": [
    {
     "name": "stdout",
     "output_type": "stream",
     "text": [
      "<Response [200]>\n"
     ]
    }
   ],
   "source": [
    "import requests\n",
    "\n",
    "url = 'http://127.0.0.1:5000/items'\n",
    "\n",
    "r = requests.get(url)\n",
    "\n",
    "print(r)"
   ]
  },
  {
   "cell_type": "code",
   "execution_count": 3,
   "metadata": {},
   "outputs": [
    {
     "name": "stdout",
     "output_type": "stream",
     "text": [
      "b'[\\n  {\\n    \"Display\": \"39.62 cm (15.6 inch) Display\",\\n    \"Inclusion\": \"1 Year Carry-in Warranty\",\\n    \"Memory\": \"16 GB DDR5 RAM\",\\n    \"Name\": \"ASUS TUF Gaming A15 AMD Ryzen 7 Octa Core 7435HS - (16 GB/512 GB SSD/Windows 11 Home/4 GB Graphics/NVI...\",\\n    \"OS\": \"Windows 11 Home Operating System\",\\n    \"Price\": 67990.0,\\n    \"Processor\": \"AMD Ryzen 7 Octa Core Processor\",\\n    \"Rating\": 4.3,\\n    \"Storage\": \"512 GB SSD\"\\n  },\\n  {\\n    \"Display\": \"39.62 cm (15.6 inch) Display\",\\n    \"Inclusion\": \"1 Year Carry-in Warranty\",\\n    \"Memory\": \"24 GB DDR5 RAM\",\\n    \"Name\": \"Lenovo LOQ Intel Core i7 13th Gen 13650HX - (24 GB/512 GB SSD/Windows 11 Home/8 GB Graphics/NVIDIA GeF...\",\\n    \"OS\": \"Windows 11 Operating System\",\\n    \"Price\": 99990.0,\\n    \"Processor\": \"Intel Core i7 Processor (13th Gen)\",\\n    \"Rating\": 4.3,\\n    \"Storage\": \"512 GB SSD\"\\n  },\\n  {\\n    \"Display\": \"39.62 cm (15.6 Inch) Display\",\\n    \"Inclusion\": \"1Yr Warranty and 1 Yr Accidental Damage Protection\",\\n    \"Memory\": \"12 GB DDR5 RAM\",\\n    \"Name\": \"Lenovo LOQ AMD Ryzen 5 Quad Core 7235HS - (12 GB/512 GB SSD/Windows 11 Home/6 GB Graphics/NVIDIA GeFor...\",\\n    \"OS\": \"Windows 11 Operating System\",\\n    \"Price\": 63290.0,\\n    \"Processor\": \"AMD Ryzen 5 Quad Core Processor\",\\n    \"Rating\": 4.4,\\n    \"Storage\": \"512 GB SSD\"\\n  },\\n  {\\n    \"Display\": \"39.62 cm (15.6 Inch) Display\",\\n    \"Inclusion\": \"1 Year Onsite Warranty\",\\n    \"Memory\": \"16 GB DDR5 RAM\",\\n    \"Name\": \"ASUS TUF Gaming A15 AMD Ryzen 5 Hexa Core 7535HS - (16 GB/512 GB SSD/Windows 11 Home/4 GB Graphics/NVI...\",\\n    \"OS\": \"Windows 11 Operating System\",\\n    \"Price\": 69900.0,\\n    \"Processor\": \"AMD Ryzen 5 Hexa Core Processor\",\\n    \"Rating\": 4.4,\\n    \"Storage\": \"512 GB SSD\"\\n  },\\n  {\\n    \"Display\": \"39.62 cm (15.6 Inch) Display\",\\n    \"Inclusion\": \"1Yr Warranty and 1 Yr Accidental Damage Protection\",\\n    \"Memory\": \"24 GB DDR5 RAM\",\\n    \"Name\": \"Lenovo LOQ AMD Ryzen 5 Quad Core 7235HS - (24 GB/512 GB SSD/Windows 11 Home/6 GB Graphics/NVIDIA GeFor...\",\\n    \"OS\": \"Windows 11 Operating System\",\\n    \"Price\": 65490.0,\\n    \"Processor\": \"AMD Ryzen 5 Quad Core Processor\",\\n    \"Rating\": 4.4,\\n    \"Storage\": \"512 GB SSD\"\\n  },\\n  {\\n    \"Display\": \"39.62 cm (15.6 inch) Display\",\\n    \"Inclusion\": \"1Yr Warranty and 1 Yr Accidental Damage Protection\",\\n    \"Memory\": \"16 GB DDR5 RAM\",\\n    \"Name\": \"Lenovo LOQ Intel Core i5 12th Gen 12450HX - (16 GB/512 GB SSD/Windows 11 Home/6 GB Graphics/NVIDIA GeF...\",\\n    \"OS\": \"Windows 11 Operating System\",\\n    \"Price\": 72890.0,\\n    \"Processor\": \"Intel Core i5 Processor (12th Gen)\",\\n    \"Rating\": 4.3,\\n    \"Storage\": \"512 GB SSD\"\\n  },\\n  {\\n    \"Display\": \"40.64 cm (16 Inch) Display\",\\n    \"Inclusion\": \"1 Year Onsite Warranty\",\\n    \"Memory\": \"16 GB DDR4 RAM\",\\n    \"Name\": \"ASUS Vivobook 16X for Creator, Intel Core i5 12th Gen 12500H - (16 GB/512 GB SSD/Windows 11 Home/4 GB ...\",\\n    \"OS\": \"Windows 11 Operating System\",\\n    \"Price\": 64990.0,\\n    \"Processor\": \"Intel Core i5 Processor (12th Gen)\",\\n    \"Rating\": 4.2,\\n    \"Storage\": \"512 GB SSD\"\\n  },\\n  {\\n    \"Display\": \"40.64 cm (16 Inch) Display\",\\n    \"Inclusion\": \"1 Year International Travelers Warranty (ITW)\",\\n    \"Memory\": \"16 GB DDR5 RAM\",\\n    \"Name\": \"Acer Predator Neo Intel Core i5 13th Gen 13500HX - (16 GB/512 GB SSD/Windows 11 Home/6 GB Graphics/NVI...\",\\n    \"OS\": \"Windows 11 Operating System\",\\n    \"Price\": 94990.0,\\n    \"Processor\": \"Intel Core i5 Processor (13th Gen)\",\\n    \"Rating\": 4.4,\\n    \"Storage\": \"512 GB SSD\"\\n  },\\n  {\\n    \"Display\": \"39.62 cm (15.6 Inch) Display\",\\n    \"Inclusion\": \"1 Year Onsite Warranty\",\\n    \"Memory\": \"16 GB DDR4 RAM\",\\n    \"Name\": \"ASUS TUF Gaming F15 Intel Core i5 12th Gen 12500H - (16 GB/512 GB SSD/Windows 11 Home/4 GB Graphics/NV...\",\\n    \"OS\": \"Windows 11 Home Operating System\",\\n    \"Price\": 75990.0,\\n    \"Processor\": \"Intel Core i5 Processor (12th Gen)\",\\n    \"Rating\": 4.4,\\n    \"Storage\": \"512 GB SSD\"\\n  },\\n  {\\n    \"Display\": \"39.62 cm (15.6 inch) Display\",\\n    \"Inclusion\": \"1 Year Carry-in Warranty\",\\n    \"Memory\": \"16 GB DDR5 RAM\",\\n    \"Name\": \"ASUS TUF Gaming A15 AMD Ryzen 7 Octa Core 7435HS - (16 GB/512 GB SSD/Windows 11 Home/4 GB Graphics/NVI...\",\\n    \"OS\": \"Windows 11 Home Operating System\",\\n    \"Price\": 62990.0,\\n    \"Processor\": \"AMD Ryzen 7 Octa Core Processor\",\\n    \"Rating\": 4.2,\\n    \"Storage\": \"512 GB SSD\"\\n  },\\n  {\\n    \"Display\": \"39.62 cm (15.6 inch) Display\",\\n    \"Inclusion\": \"1 Year Carry-in Warranty\",\\n    \"Memory\": \"24 GB DDR5 RAM\",\\n    \"Name\": \"Lenovo LOQ Intel Core i7 13th Gen 13650HX - (24 GB/512 GB SSD/Windows 11 Home/6 GB Graphics/NVIDIA GeF...\",\\n    \"OS\": \"Windows 11 Operating System\",\\n    \"Price\": 103690.0,\\n    \"Processor\": \"Intel Core i7 Processor (13th Gen)\",\\n    \"Rating\": 4.3,\\n    \"Storage\": \"512 GB SSD\"\\n  },\\n  {\\n    \"Display\": \"39.62 cm (15.6 Inch) Display\",\\n    \"Inclusion\": \"1 Year Carry-in Warranty\",\\n    \"Memory\": \"24 GB DDR5 RAM\",\\n    \"Name\": \"Lenovo Legion 5 Intel Core i7 13th Gen 13650HX - (24 GB/512 GB SSD/Windows 11 Home/8 GB Graphics/NVIDI...\",\\n    \"OS\": \"Windows 11 Operating System\",\\n    \"Price\": 122690.0,\\n    \"Processor\": \"Intel Core i7 Processor (13th Gen)\",\\n    \"Rating\": 4.5,\\n    \"Storage\": \"512 GB SSD\"\\n  },\\n  {\\n    \"Display\": \"22.35 cm (8.8 inch) Touchscreen Display\",\\n    \"Inclusion\": \"1 Year Carry in + 1 Year Accidental Damage Protection\",\\n    \"Memory\": \"16 GB LPDDR5X RAM\",\\n    \"Name\": \"Lenovo Legion Go AMD Ryzen Z1 Extreme - (16 GB/512 GB SSD/Windows 11 Home) 8APU1 Handheld Gaming PC\",\\n    \"OS\": \"Windows 11 Home Operating System\",\\n    \"Price\": 70190.0,\\n    \"Processor\": \"AMD Ryzen Z1 Extreme Processor\",\\n    \"Rating\": 4.7,\\n    \"Storage\": \"512 GB SSD\"\\n  },\\n  {\\n    \"Display\": \"39.62 cm (15.6 Inch) Display\",\\n    \"Inclusion\": \"1 Year Onsite warranty\",\\n    \"Memory\": \"16 GB DDR5 RAM\",\\n    \"Name\": \"ASUS TUF Gaming F15, 90WHrs Battery Intel Core i7 13th Gen 13620H - (16 GB/512 GB SSD/Windows 11 Home/...\",\\n    \"OS\": \"Windows 11 Operating System\",\\n    \"Price\": 109990.0,\\n    \"Processor\": \"Intel Core i7 Processor (13th Gen)\",\\n    \"Rating\": 4.1,\\n    \"Storage\": \"512 GB SSD\"\\n  },\\n  {\\n    \"Display\": \"39.62 cm (15.6 Inch) Display\",\\n    \"Inclusion\": \"1 Year Onsite Warranty\",\\n    \"Memory\": \"16 GB DDR4 RAM\",\\n    \"Name\": \"HP Victus Intel Core i5 12th Gen 12450H - (16 GB/1 TB SSD/Windows 11 Home/4 GB Graphics/NVIDIA GeForce...\",\\n    \"OS\": \"Windows 11 Operating System\",\\n    \"Price\": 68990.0,\\n    \"Processor\": \"Intel Core i5 Processor (12th Gen)\",\\n    \"Rating\": 4.4,\\n    \"Storage\": \"1 TB SSD\"\\n  },\\n  {\\n    \"Display\": \"39.62 cm (15.6 Inch) Display\",\\n    \"Inclusion\": \"1 Year Onsite Warranty\",\\n    \"Memory\": \"16 GB DDR5 RAM\",\\n    \"Name\": \"ASUS TUF Gaming A15 AMD Ryzen 7 Octa Core 7435HS - (16 GB/512 GB SSD/Windows 11 Home/8 GB Graphics/NVI...\",\\n    \"OS\": \"Windows 11 Operating System\",\\n    \"Price\": 99990.0,\\n    \"Processor\": \"AMD Ryzen 7 Octa Core Processor\",\\n    \"Rating\": 4.6,\\n    \"Storage\": \"512 GB SSD\"\\n  },\\n  {\\n    \"Display\": \"40.64 cm (16 Inch) Display\",\\n    \"Inclusion\": \"1 Year Onsite Warranty\",\\n    \"Memory\": \"16 GB DDR5 RAM\",\\n    \"Name\": \"ASUS ROG Strix G16 with 90WHr Battery Intel HX-Series Intel Core i7 13th Gen 13650HX - (16 GB/1 TB SSD...\",\\n    \"OS\": \"Windows 11 Operating System\",\\n    \"Price\": 105990.0,\\n    \"Processor\": \"Intel Core i7 Processor (13th Gen)\",\\n    \"Rating\": 4.4,\\n    \"Storage\": \"1 TB SSD\"\\n  }\\n]\\n'\n"
     ]
    }
   ],
   "source": [
    "## Pull the data in bytes using content\n",
    "print(r.content)"
   ]
  },
  {
   "cell_type": "code",
   "execution_count": 4,
   "metadata": {},
   "outputs": [
    {
     "data": {
      "text/plain": [
       "[{'Display': '39.62 cm (15.6 inch) Display',\n",
       "  'Inclusion': '1 Year Carry-in Warranty',\n",
       "  'Memory': '16 GB DDR5 RAM',\n",
       "  'Name': 'ASUS TUF Gaming A15 AMD Ryzen 7 Octa Core 7435HS - (16 GB/512 GB SSD/Windows 11 Home/4 GB Graphics/NVI...',\n",
       "  'OS': 'Windows 11 Home Operating System',\n",
       "  'Price': 67990.0,\n",
       "  'Processor': 'AMD Ryzen 7 Octa Core Processor',\n",
       "  'Rating': 4.3,\n",
       "  'Storage': '512 GB SSD'},\n",
       " {'Display': '39.62 cm (15.6 inch) Display',\n",
       "  'Inclusion': '1 Year Carry-in Warranty',\n",
       "  'Memory': '24 GB DDR5 RAM',\n",
       "  'Name': 'Lenovo LOQ Intel Core i7 13th Gen 13650HX - (24 GB/512 GB SSD/Windows 11 Home/8 GB Graphics/NVIDIA GeF...',\n",
       "  'OS': 'Windows 11 Operating System',\n",
       "  'Price': 99990.0,\n",
       "  'Processor': 'Intel Core i7 Processor (13th Gen)',\n",
       "  'Rating': 4.3,\n",
       "  'Storage': '512 GB SSD'},\n",
       " {'Display': '39.62 cm (15.6 Inch) Display',\n",
       "  'Inclusion': '1Yr Warranty and 1 Yr Accidental Damage Protection',\n",
       "  'Memory': '12 GB DDR5 RAM',\n",
       "  'Name': 'Lenovo LOQ AMD Ryzen 5 Quad Core 7235HS - (12 GB/512 GB SSD/Windows 11 Home/6 GB Graphics/NVIDIA GeFor...',\n",
       "  'OS': 'Windows 11 Operating System',\n",
       "  'Price': 63290.0,\n",
       "  'Processor': 'AMD Ryzen 5 Quad Core Processor',\n",
       "  'Rating': 4.4,\n",
       "  'Storage': '512 GB SSD'},\n",
       " {'Display': '39.62 cm (15.6 Inch) Display',\n",
       "  'Inclusion': '1 Year Onsite Warranty',\n",
       "  'Memory': '16 GB DDR5 RAM',\n",
       "  'Name': 'ASUS TUF Gaming A15 AMD Ryzen 5 Hexa Core 7535HS - (16 GB/512 GB SSD/Windows 11 Home/4 GB Graphics/NVI...',\n",
       "  'OS': 'Windows 11 Operating System',\n",
       "  'Price': 69900.0,\n",
       "  'Processor': 'AMD Ryzen 5 Hexa Core Processor',\n",
       "  'Rating': 4.4,\n",
       "  'Storage': '512 GB SSD'},\n",
       " {'Display': '39.62 cm (15.6 Inch) Display',\n",
       "  'Inclusion': '1Yr Warranty and 1 Yr Accidental Damage Protection',\n",
       "  'Memory': '24 GB DDR5 RAM',\n",
       "  'Name': 'Lenovo LOQ AMD Ryzen 5 Quad Core 7235HS - (24 GB/512 GB SSD/Windows 11 Home/6 GB Graphics/NVIDIA GeFor...',\n",
       "  'OS': 'Windows 11 Operating System',\n",
       "  'Price': 65490.0,\n",
       "  'Processor': 'AMD Ryzen 5 Quad Core Processor',\n",
       "  'Rating': 4.4,\n",
       "  'Storage': '512 GB SSD'},\n",
       " {'Display': '39.62 cm (15.6 inch) Display',\n",
       "  'Inclusion': '1Yr Warranty and 1 Yr Accidental Damage Protection',\n",
       "  'Memory': '16 GB DDR5 RAM',\n",
       "  'Name': 'Lenovo LOQ Intel Core i5 12th Gen 12450HX - (16 GB/512 GB SSD/Windows 11 Home/6 GB Graphics/NVIDIA GeF...',\n",
       "  'OS': 'Windows 11 Operating System',\n",
       "  'Price': 72890.0,\n",
       "  'Processor': 'Intel Core i5 Processor (12th Gen)',\n",
       "  'Rating': 4.3,\n",
       "  'Storage': '512 GB SSD'},\n",
       " {'Display': '40.64 cm (16 Inch) Display',\n",
       "  'Inclusion': '1 Year Onsite Warranty',\n",
       "  'Memory': '16 GB DDR4 RAM',\n",
       "  'Name': 'ASUS Vivobook 16X for Creator, Intel Core i5 12th Gen 12500H - (16 GB/512 GB SSD/Windows 11 Home/4 GB ...',\n",
       "  'OS': 'Windows 11 Operating System',\n",
       "  'Price': 64990.0,\n",
       "  'Processor': 'Intel Core i5 Processor (12th Gen)',\n",
       "  'Rating': 4.2,\n",
       "  'Storage': '512 GB SSD'},\n",
       " {'Display': '40.64 cm (16 Inch) Display',\n",
       "  'Inclusion': '1 Year International Travelers Warranty (ITW)',\n",
       "  'Memory': '16 GB DDR5 RAM',\n",
       "  'Name': 'Acer Predator Neo Intel Core i5 13th Gen 13500HX - (16 GB/512 GB SSD/Windows 11 Home/6 GB Graphics/NVI...',\n",
       "  'OS': 'Windows 11 Operating System',\n",
       "  'Price': 94990.0,\n",
       "  'Processor': 'Intel Core i5 Processor (13th Gen)',\n",
       "  'Rating': 4.4,\n",
       "  'Storage': '512 GB SSD'},\n",
       " {'Display': '39.62 cm (15.6 Inch) Display',\n",
       "  'Inclusion': '1 Year Onsite Warranty',\n",
       "  'Memory': '16 GB DDR4 RAM',\n",
       "  'Name': 'ASUS TUF Gaming F15 Intel Core i5 12th Gen 12500H - (16 GB/512 GB SSD/Windows 11 Home/4 GB Graphics/NV...',\n",
       "  'OS': 'Windows 11 Home Operating System',\n",
       "  'Price': 75990.0,\n",
       "  'Processor': 'Intel Core i5 Processor (12th Gen)',\n",
       "  'Rating': 4.4,\n",
       "  'Storage': '512 GB SSD'},\n",
       " {'Display': '39.62 cm (15.6 inch) Display',\n",
       "  'Inclusion': '1 Year Carry-in Warranty',\n",
       "  'Memory': '16 GB DDR5 RAM',\n",
       "  'Name': 'ASUS TUF Gaming A15 AMD Ryzen 7 Octa Core 7435HS - (16 GB/512 GB SSD/Windows 11 Home/4 GB Graphics/NVI...',\n",
       "  'OS': 'Windows 11 Home Operating System',\n",
       "  'Price': 62990.0,\n",
       "  'Processor': 'AMD Ryzen 7 Octa Core Processor',\n",
       "  'Rating': 4.2,\n",
       "  'Storage': '512 GB SSD'},\n",
       " {'Display': '39.62 cm (15.6 inch) Display',\n",
       "  'Inclusion': '1 Year Carry-in Warranty',\n",
       "  'Memory': '24 GB DDR5 RAM',\n",
       "  'Name': 'Lenovo LOQ Intel Core i7 13th Gen 13650HX - (24 GB/512 GB SSD/Windows 11 Home/6 GB Graphics/NVIDIA GeF...',\n",
       "  'OS': 'Windows 11 Operating System',\n",
       "  'Price': 103690.0,\n",
       "  'Processor': 'Intel Core i7 Processor (13th Gen)',\n",
       "  'Rating': 4.3,\n",
       "  'Storage': '512 GB SSD'},\n",
       " {'Display': '39.62 cm (15.6 Inch) Display',\n",
       "  'Inclusion': '1 Year Carry-in Warranty',\n",
       "  'Memory': '24 GB DDR5 RAM',\n",
       "  'Name': 'Lenovo Legion 5 Intel Core i7 13th Gen 13650HX - (24 GB/512 GB SSD/Windows 11 Home/8 GB Graphics/NVIDI...',\n",
       "  'OS': 'Windows 11 Operating System',\n",
       "  'Price': 122690.0,\n",
       "  'Processor': 'Intel Core i7 Processor (13th Gen)',\n",
       "  'Rating': 4.5,\n",
       "  'Storage': '512 GB SSD'},\n",
       " {'Display': '22.35 cm (8.8 inch) Touchscreen Display',\n",
       "  'Inclusion': '1 Year Carry in + 1 Year Accidental Damage Protection',\n",
       "  'Memory': '16 GB LPDDR5X RAM',\n",
       "  'Name': 'Lenovo Legion Go AMD Ryzen Z1 Extreme - (16 GB/512 GB SSD/Windows 11 Home) 8APU1 Handheld Gaming PC',\n",
       "  'OS': 'Windows 11 Home Operating System',\n",
       "  'Price': 70190.0,\n",
       "  'Processor': 'AMD Ryzen Z1 Extreme Processor',\n",
       "  'Rating': 4.7,\n",
       "  'Storage': '512 GB SSD'},\n",
       " {'Display': '39.62 cm (15.6 Inch) Display',\n",
       "  'Inclusion': '1 Year Onsite warranty',\n",
       "  'Memory': '16 GB DDR5 RAM',\n",
       "  'Name': 'ASUS TUF Gaming F15, 90WHrs Battery Intel Core i7 13th Gen 13620H - (16 GB/512 GB SSD/Windows 11 Home/...',\n",
       "  'OS': 'Windows 11 Operating System',\n",
       "  'Price': 109990.0,\n",
       "  'Processor': 'Intel Core i7 Processor (13th Gen)',\n",
       "  'Rating': 4.1,\n",
       "  'Storage': '512 GB SSD'},\n",
       " {'Display': '39.62 cm (15.6 Inch) Display',\n",
       "  'Inclusion': '1 Year Onsite Warranty',\n",
       "  'Memory': '16 GB DDR4 RAM',\n",
       "  'Name': 'HP Victus Intel Core i5 12th Gen 12450H - (16 GB/1 TB SSD/Windows 11 Home/4 GB Graphics/NVIDIA GeForce...',\n",
       "  'OS': 'Windows 11 Operating System',\n",
       "  'Price': 68990.0,\n",
       "  'Processor': 'Intel Core i5 Processor (12th Gen)',\n",
       "  'Rating': 4.4,\n",
       "  'Storage': '1 TB SSD'},\n",
       " {'Display': '39.62 cm (15.6 Inch) Display',\n",
       "  'Inclusion': '1 Year Onsite Warranty',\n",
       "  'Memory': '16 GB DDR5 RAM',\n",
       "  'Name': 'ASUS TUF Gaming A15 AMD Ryzen 7 Octa Core 7435HS - (16 GB/512 GB SSD/Windows 11 Home/8 GB Graphics/NVI...',\n",
       "  'OS': 'Windows 11 Operating System',\n",
       "  'Price': 99990.0,\n",
       "  'Processor': 'AMD Ryzen 7 Octa Core Processor',\n",
       "  'Rating': 4.6,\n",
       "  'Storage': '512 GB SSD'},\n",
       " {'Display': '40.64 cm (16 Inch) Display',\n",
       "  'Inclusion': '1 Year Onsite Warranty',\n",
       "  'Memory': '16 GB DDR5 RAM',\n",
       "  'Name': 'ASUS ROG Strix G16 with 90WHr Battery Intel HX-Series Intel Core i7 13th Gen 13650HX - (16 GB/1 TB SSD...',\n",
       "  'OS': 'Windows 11 Operating System',\n",
       "  'Price': 105990.0,\n",
       "  'Processor': 'Intel Core i7 Processor (13th Gen)',\n",
       "  'Rating': 4.4,\n",
       "  'Storage': '1 TB SSD'}]"
      ]
     },
     "execution_count": 4,
     "metadata": {},
     "output_type": "execute_result"
    }
   ],
   "source": [
    "## Pull the data in json formar\n",
    "json_data = r.json()\n",
    "json_data"
   ]
  },
  {
   "cell_type": "code",
   "execution_count": 5,
   "metadata": {},
   "outputs": [
    {
     "name": "stdout",
     "output_type": "stream",
     "text": [
      "[{'Display': '39.62 cm (15.6 inch) Display', 'Inclusion': '1 Year Carry-in Warranty', 'Memory': '16 GB DDR5 RAM', 'Name': 'ASUS TUF Gaming A15 AMD Ryzen 7 Octa Core 7435HS - (16 GB/512 GB SSD/Windows 11 Home/4 GB Graphics/NVI...', 'OS': 'Windows 11 Home Operating System', 'Price': 67990.0, 'Processor': 'AMD Ryzen 7 Octa Core Processor', 'Rating': 4.3, 'Storage': '512 GB SSD'}, {'Display': '39.62 cm (15.6 inch) Display', 'Inclusion': '1 Year Carry-in Warranty', 'Memory': '24 GB DDR5 RAM', 'Name': 'Lenovo LOQ Intel Core i7 13th Gen 13650HX - (24 GB/512 GB SSD/Windows 11 Home/8 GB Graphics/NVIDIA GeF...', 'OS': 'Windows 11 Operating System', 'Price': 99990.0, 'Processor': 'Intel Core i7 Processor (13th Gen)', 'Rating': 4.3, 'Storage': '512 GB SSD'}, {'Display': '39.62 cm (15.6 Inch) Display', 'Inclusion': '1Yr Warranty and 1 Yr Accidental Damage Protection', 'Memory': '12 GB DDR5 RAM', 'Name': 'Lenovo LOQ AMD Ryzen 5 Quad Core 7235HS - (12 GB/512 GB SSD/Windows 11 Home/6 GB Graphics/NVIDIA GeFor...', 'OS': 'Windows 11 Operating System', 'Price': 63290.0, 'Processor': 'AMD Ryzen 5 Quad Core Processor', 'Rating': 4.4, 'Storage': '512 GB SSD'}, {'Display': '39.62 cm (15.6 Inch) Display', 'Inclusion': '1 Year Onsite Warranty', 'Memory': '16 GB DDR5 RAM', 'Name': 'ASUS TUF Gaming A15 AMD Ryzen 5 Hexa Core 7535HS - (16 GB/512 GB SSD/Windows 11 Home/4 GB Graphics/NVI...', 'OS': 'Windows 11 Operating System', 'Price': 69900.0, 'Processor': 'AMD Ryzen 5 Hexa Core Processor', 'Rating': 4.4, 'Storage': '512 GB SSD'}, {'Display': '39.62 cm (15.6 Inch) Display', 'Inclusion': '1Yr Warranty and 1 Yr Accidental Damage Protection', 'Memory': '24 GB DDR5 RAM', 'Name': 'Lenovo LOQ AMD Ryzen 5 Quad Core 7235HS - (24 GB/512 GB SSD/Windows 11 Home/6 GB Graphics/NVIDIA GeFor...', 'OS': 'Windows 11 Operating System', 'Price': 65490.0, 'Processor': 'AMD Ryzen 5 Quad Core Processor', 'Rating': 4.4, 'Storage': '512 GB SSD'}, {'Display': '39.62 cm (15.6 inch) Display', 'Inclusion': '1Yr Warranty and 1 Yr Accidental Damage Protection', 'Memory': '16 GB DDR5 RAM', 'Name': 'Lenovo LOQ Intel Core i5 12th Gen 12450HX - (16 GB/512 GB SSD/Windows 11 Home/6 GB Graphics/NVIDIA GeF...', 'OS': 'Windows 11 Operating System', 'Price': 72890.0, 'Processor': 'Intel Core i5 Processor (12th Gen)', 'Rating': 4.3, 'Storage': '512 GB SSD'}, {'Display': '40.64 cm (16 Inch) Display', 'Inclusion': '1 Year Onsite Warranty', 'Memory': '16 GB DDR4 RAM', 'Name': 'ASUS Vivobook 16X for Creator, Intel Core i5 12th Gen 12500H - (16 GB/512 GB SSD/Windows 11 Home/4 GB ...', 'OS': 'Windows 11 Operating System', 'Price': 64990.0, 'Processor': 'Intel Core i5 Processor (12th Gen)', 'Rating': 4.2, 'Storage': '512 GB SSD'}, {'Display': '40.64 cm (16 Inch) Display', 'Inclusion': '1 Year International Travelers Warranty (ITW)', 'Memory': '16 GB DDR5 RAM', 'Name': 'Acer Predator Neo Intel Core i5 13th Gen 13500HX - (16 GB/512 GB SSD/Windows 11 Home/6 GB Graphics/NVI...', 'OS': 'Windows 11 Operating System', 'Price': 94990.0, 'Processor': 'Intel Core i5 Processor (13th Gen)', 'Rating': 4.4, 'Storage': '512 GB SSD'}, {'Display': '39.62 cm (15.6 Inch) Display', 'Inclusion': '1 Year Onsite Warranty', 'Memory': '16 GB DDR4 RAM', 'Name': 'ASUS TUF Gaming F15 Intel Core i5 12th Gen 12500H - (16 GB/512 GB SSD/Windows 11 Home/4 GB Graphics/NV...', 'OS': 'Windows 11 Home Operating System', 'Price': 75990.0, 'Processor': 'Intel Core i5 Processor (12th Gen)', 'Rating': 4.4, 'Storage': '512 GB SSD'}, {'Display': '39.62 cm (15.6 inch) Display', 'Inclusion': '1 Year Carry-in Warranty', 'Memory': '16 GB DDR5 RAM', 'Name': 'ASUS TUF Gaming A15 AMD Ryzen 7 Octa Core 7435HS - (16 GB/512 GB SSD/Windows 11 Home/4 GB Graphics/NVI...', 'OS': 'Windows 11 Home Operating System', 'Price': 62990.0, 'Processor': 'AMD Ryzen 7 Octa Core Processor', 'Rating': 4.2, 'Storage': '512 GB SSD'}, {'Display': '39.62 cm (15.6 inch) Display', 'Inclusion': '1 Year Carry-in Warranty', 'Memory': '24 GB DDR5 RAM', 'Name': 'Lenovo LOQ Intel Core i7 13th Gen 13650HX - (24 GB/512 GB SSD/Windows 11 Home/6 GB Graphics/NVIDIA GeF...', 'OS': 'Windows 11 Operating System', 'Price': 103690.0, 'Processor': 'Intel Core i7 Processor (13th Gen)', 'Rating': 4.3, 'Storage': '512 GB SSD'}, {'Display': '39.62 cm (15.6 Inch) Display', 'Inclusion': '1 Year Carry-in Warranty', 'Memory': '24 GB DDR5 RAM', 'Name': 'Lenovo Legion 5 Intel Core i7 13th Gen 13650HX - (24 GB/512 GB SSD/Windows 11 Home/8 GB Graphics/NVIDI...', 'OS': 'Windows 11 Operating System', 'Price': 122690.0, 'Processor': 'Intel Core i7 Processor (13th Gen)', 'Rating': 4.5, 'Storage': '512 GB SSD'}, {'Display': '22.35 cm (8.8 inch) Touchscreen Display', 'Inclusion': '1 Year Carry in + 1 Year Accidental Damage Protection', 'Memory': '16 GB LPDDR5X RAM', 'Name': 'Lenovo Legion Go AMD Ryzen Z1 Extreme - (16 GB/512 GB SSD/Windows 11 Home) 8APU1 Handheld Gaming PC', 'OS': 'Windows 11 Home Operating System', 'Price': 70190.0, 'Processor': 'AMD Ryzen Z1 Extreme Processor', 'Rating': 4.7, 'Storage': '512 GB SSD'}, {'Display': '39.62 cm (15.6 Inch) Display', 'Inclusion': '1 Year Onsite warranty', 'Memory': '16 GB DDR5 RAM', 'Name': 'ASUS TUF Gaming F15, 90WHrs Battery Intel Core i7 13th Gen 13620H - (16 GB/512 GB SSD/Windows 11 Home/...', 'OS': 'Windows 11 Operating System', 'Price': 109990.0, 'Processor': 'Intel Core i7 Processor (13th Gen)', 'Rating': 4.1, 'Storage': '512 GB SSD'}, {'Display': '39.62 cm (15.6 Inch) Display', 'Inclusion': '1 Year Onsite Warranty', 'Memory': '16 GB DDR4 RAM', 'Name': 'HP Victus Intel Core i5 12th Gen 12450H - (16 GB/1 TB SSD/Windows 11 Home/4 GB Graphics/NVIDIA GeForce...', 'OS': 'Windows 11 Operating System', 'Price': 68990.0, 'Processor': 'Intel Core i5 Processor (12th Gen)', 'Rating': 4.4, 'Storage': '1 TB SSD'}, {'Display': '39.62 cm (15.6 Inch) Display', 'Inclusion': '1 Year Onsite Warranty', 'Memory': '16 GB DDR5 RAM', 'Name': 'ASUS TUF Gaming A15 AMD Ryzen 7 Octa Core 7435HS - (16 GB/512 GB SSD/Windows 11 Home/8 GB Graphics/NVI...', 'OS': 'Windows 11 Operating System', 'Price': 99990.0, 'Processor': 'AMD Ryzen 7 Octa Core Processor', 'Rating': 4.6, 'Storage': '512 GB SSD'}, {'Display': '40.64 cm (16 Inch) Display', 'Inclusion': '1 Year Onsite Warranty', 'Memory': '16 GB DDR5 RAM', 'Name': 'ASUS ROG Strix G16 with 90WHr Battery Intel HX-Series Intel Core i7 13th Gen 13650HX - (16 GB/1 TB SSD...', 'OS': 'Windows 11 Operating System', 'Price': 105990.0, 'Processor': 'Intel Core i7 Processor (13th Gen)', 'Rating': 4.4, 'Storage': '1 TB SSD'}]\n"
     ]
    }
   ],
   "source": [
    "print(json_data)  # This will show you the full data structure"
   ]
  },
  {
   "cell_type": "code",
   "execution_count": 6,
   "metadata": {},
   "outputs": [
    {
     "name": "stdout",
     "output_type": "stream",
     "text": [
      "Lenovo LOQ Intel Core i7 13th Gen 13650HX - (24 GB/512 GB SSD/Windows 11 Home/8 GB Graphics/NVIDIA GeF...\n"
     ]
    }
   ],
   "source": [
    "# Assuming json_data is the list you've printed\n",
    "print(json_data[1]['Name'])  # This will print the name of the second laptop"
   ]
  },
  {
   "cell_type": "code",
   "execution_count": 7,
   "metadata": {},
   "outputs": [
    {
     "name": "stdout",
     "output_type": "stream",
     "text": [
      "ASUS TUF Gaming A15 AMD Ryzen 7 Octa Core 7435HS - (16 GB/512 GB SSD/Windows 11 Home/4 GB Graphics/NVI...\n",
      "Lenovo LOQ Intel Core i7 13th Gen 13650HX - (24 GB/512 GB SSD/Windows 11 Home/8 GB Graphics/NVIDIA GeF...\n",
      "Lenovo LOQ AMD Ryzen 5 Quad Core 7235HS - (12 GB/512 GB SSD/Windows 11 Home/6 GB Graphics/NVIDIA GeFor...\n",
      "ASUS TUF Gaming A15 AMD Ryzen 5 Hexa Core 7535HS - (16 GB/512 GB SSD/Windows 11 Home/4 GB Graphics/NVI...\n"
     ]
    }
   ],
   "source": [
    "## I want to pull the first 4 titles\n",
    "for i in range(4):\n",
    "    print(json_data[i]['Name'])"
   ]
  },
  {
   "cell_type": "code",
   "execution_count": 14,
   "metadata": {},
   "outputs": [
    {
     "name": "stdout",
     "output_type": "stream",
     "text": [
      "<Response [201]>\n",
      "{'display': '15.6 inch', 'name': 'New Laptop Model', 'os': 'Windows 11', 'price': 85000.0, 'processor': 'Intel Core i7', 'ram': '16 GB', 'rating': 4.5, 'ssd': '1 TB SSD', 'warranty': '2 Years Warranty'}\n"
     ]
    }
   ],
   "source": [
    "import requests\n",
    "\n",
    "# Define the data to be sent\n",
    "data = {\n",
    "    \"name\": \"New Laptop Model\",\n",
    "    \"price\": \"85000.0\",\n",
    "    \"rating\": 4.5,\n",
    "    \"processor\": \"Intel Core i7\",\n",
    "    \"ram\": \"16 GB\",\n",
    "    \"os\": \"Windows 11\",\n",
    "    \"ssd\": \"1 TB SSD\",\n",
    "    \"display\": \"15.6 inch\",\n",
    "    \"warranty\": \"2 Years Warranty\"\n",
    "}\n",
    "\n",
    "# Send the POST request with JSON data\n",
    "r = requests.post('http://127.0.0.1:5000/items', json=data)\n",
    "\n",
    "# Print the response\n",
    "print(r)\n",
    "print(r.json())  # Optionally print the JSON response content"
   ]
  }
 ],
 "metadata": {
  "kernelspec": {
   "display_name": "Python 3",
   "language": "python",
   "name": "python3"
  },
  "language_info": {
   "codemirror_mode": {
    "name": "ipython",
    "version": 3
   },
   "file_extension": ".py",
   "mimetype": "text/x-python",
   "name": "python",
   "nbconvert_exporter": "python",
   "pygments_lexer": "ipython3",
   "version": "3.13.1"
  }
 },
 "nbformat": 4,
 "nbformat_minor": 2
}
