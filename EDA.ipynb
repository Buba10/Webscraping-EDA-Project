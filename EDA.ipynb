{
 "cells": [
  {
   "cell_type": "markdown",
   "metadata": {},
   "source": [
    "# Web Scraping"
   ]
  },
  {
   "cell_type": "markdown",
   "metadata": {},
   "source": [
    "## Requests"
   ]
  },
  {
   "cell_type": "markdown",
   "metadata": {},
   "source": [
    "### GET"
   ]
  },
  {
   "cell_type": "code",
   "execution_count": 4,
   "metadata": {},
   "outputs": [],
   "source": [
    "# ! pip install requests\n",
    "import requests"
   ]
  },
  {
   "cell_type": "code",
   "execution_count": 5,
   "metadata": {},
   "outputs": [
    {
     "name": "stdout",
     "output_type": "stream",
     "text": [
      "<Response [200]>\n"
     ]
    }
   ],
   "source": [
    "import requests\n",
    "\n",
    "url = 'http://127.0.0.1:5000/items'\n",
    "\n",
    "r = requests.get(url)\n",
    "\n",
    "print(r)"
   ]
  },
  {
   "cell_type": "code",
   "execution_count": 6,
   "metadata": {},
   "outputs": [
    {
     "name": "stdout",
     "output_type": "stream",
     "text": [
      "b'[\\n  {\\n    \"Display\": \"39.62 cm (15.6 inch) Display\",\\n    \"Inclusion\": \"1 Year Carry-in Warranty\",\\n    \"Memory\": \"16 GB DDR5 RAM\",\\n    \"Name\": \"ASUS TUF Gaming A15 AMD Ryzen 7 Octa Core 7435HS - (16 GB/512 GB SSD/Windows 11 Home/4 GB Graphics/NVI...\",\\n    \"OS\": \"Windows 11 Home Operating System\",\\n    \"Price\": 67990.0,\\n    \"Processor\": \"AMD Ryzen 7 Octa Core Processor\",\\n    \"Rating\": 4.3,\\n    \"Storage\": \"512 GB SSD\"\\n  },\\n  {\\n    \"Display\": \"39.62 cm (15.6 Inch) Display\",\\n    \"Inclusion\": \"1Yr Warranty and 1 Yr Accidental Damage Protection\",\\n    \"Memory\": \"12 GB DDR5 RAM\",\\n    \"Name\": \"Lenovo LOQ AMD Ryzen 5 Quad Core 7235HS - (12 GB/512 GB SSD/Windows 11 Home/6 GB Graphics/NVIDIA GeFor...\",\\n    \"OS\": \"Windows 11 Operating System\",\\n    \"Price\": 62490.0,\\n    \"Processor\": \"AMD Ryzen 5 Quad Core Processor\",\\n    \"Rating\": 4.4,\\n    \"Storage\": \"512 GB SSD\"\\n  },\\n  {\\n    \"Display\": \"39.62 cm (15.6 inch) Display\",\\n    \"Inclusion\": \"1Yr Warranty and 1 Yr Accidental Damage Protection\",\\n    \"Memory\": \"16 GB DDR5 RAM\",\\n    \"Name\": \"Lenovo LOQ Intel Core i5 12th Gen 12450HX - (16 GB/512 GB SSD/Windows 11 Home/6 GB Graphics/NVIDIA GeF...\",\\n    \"OS\": \"Windows 11 Operating System\",\\n    \"Price\": 72890.0,\\n    \"Processor\": \"Intel Core i5 Processor (12th Gen)\",\\n    \"Rating\": 4.3,\\n    \"Storage\": \"512 GB SSD\"\\n  },\\n  {\\n    \"Display\": \"39.62 cm (15.6 Inch) Display\",\\n    \"Inclusion\": \"1Yr Warranty and 1 Yr Accidental Damage Protection\",\\n    \"Memory\": \"24 GB DDR5 RAM\",\\n    \"Name\": \"Lenovo LOQ AMD Ryzen 5 Quad Core 7235HS - (24 GB/512 GB SSD/Windows 11 Home/6 GB Graphics/NVIDIA GeFor...\",\\n    \"OS\": \"Windows 11 Operating System\",\\n    \"Price\": 65490.0,\\n    \"Processor\": \"AMD Ryzen 5 Quad Core Processor\",\\n    \"Rating\": 4.4,\\n    \"Storage\": \"512 GB SSD\"\\n  },\\n  {\\n    \"Display\": \"39.62 cm (15.6 inch) Display\",\\n    \"Inclusion\": \"1 Year Carry-in Warranty\",\\n    \"Memory\": \"24 GB DDR5 RAM\",\\n    \"Name\": \"Lenovo LOQ Intel Core i7 13th Gen 13650HX - (24 GB/512 GB SSD/Windows 11 Home/6 GB Graphics/NVIDIA GeF...\",\\n    \"OS\": \"Windows 11 Operating System\",\\n    \"Price\": 103690.0,\\n    \"Processor\": \"Intel Core i7 Processor (13th Gen)\",\\n    \"Rating\": 4.3,\\n    \"Storage\": \"512 GB SSD\"\\n  },\\n  {\\n    \"Display\": \"39.62 cm (15.6 Inch) Display\",\\n    \"Inclusion\": \"1 Year Onsite Warranty\",\\n    \"Memory\": \"16 GB DDR5 RAM\",\\n    \"Name\": \"ASUS TUF Gaming A15 AMD Ryzen 5 Hexa Core 7535HS - (16 GB/512 GB SSD/Windows 11 Home/4 GB Graphics/NVI...\",\\n    \"OS\": \"Windows 11 Operating System\",\\n    \"Price\": 68990.0,\\n    \"Processor\": \"AMD Ryzen 5 Hexa Core Processor\",\\n    \"Rating\": 4.4,\\n    \"Storage\": \"512 GB SSD\"\\n  },\\n  {\\n    \"Display\": \"39.62 cm (15.6 inch) Display\",\\n    \"Inclusion\": \"1 Year Carry-in Warranty\",\\n    \"Memory\": \"24 GB DDR5 RAM\",\\n    \"Name\": \"Lenovo LOQ Intel Core i7 13th Gen 13650HX - (24 GB/512 GB SSD/Windows 11 Home/8 GB Graphics/NVIDIA GeF...\",\\n    \"OS\": \"Windows 11 Operating System\",\\n    \"Price\": 99990.0,\\n    \"Processor\": \"Intel Core i7 Processor (13th Gen)\",\\n    \"Rating\": 4.3,\\n    \"Storage\": \"512 GB SSD\"\\n  },\\n  {\\n    \"Display\": \"40.64 cm (16 Inch) Display\",\\n    \"Inclusion\": \"1 Year Carry-in Warranty\",\\n    \"Memory\": \"16 GB DDR5 RAM\",\\n    \"Name\": \"Acer Predator Helios Neo 16 Intel Core i7 14th Gen 14700HX - (16 GB/1 TB SSD/Windows 11 Home/6 GB Grap...\",\\n    \"OS\": \"Windows 11 Operating System\",\\n    \"Price\": 124990.0,\\n    \"Processor\": \"Intel Core i7 Processor (14th Gen)\",\\n    \"Rating\": 4.3,\\n    \"Storage\": \"1 TB SSD\"\\n  },\\n  {\\n    \"Display\": \"39.62 cm (15.6 Inch) Display\",\\n    \"Inclusion\": \"1Yr Warranty and 1 Yr Accidental Damage Protection\",\\n    \"Memory\": \"8 GB DDR5 RAM\",\\n    \"Name\": \"Lenovo LOQ Intel Core i5 12th Gen 12450HX - (8 GB/512 GB SSD/Windows 11 Pro/4 GB Graphics/Intel Integr...\",\\n    \"OS\": \"Windows 11 Home Operating System\",\\n    \"Price\": 53490.0,\\n    \"Processor\": \"Intel Core i5 Processor (12th Gen)\",\\n    \"Rating\": 4.3,\\n    \"Storage\": \"512 GB SSD\"\\n  },\\n  {\\n    \"Display\": \"40.64 cm (16 Inch) Display\",\\n    \"Inclusion\": \"1 Year International Travelers Warranty (ITW)\",\\n    \"Memory\": \"16 GB DDR5 RAM\",\\n    \"Name\": \"Acer Predator Neo Intel Core i5 13th Gen 13500HX - (16 GB/512 GB SSD/Windows 11 Home/6 GB Graphics/NVI...\",\\n    \"OS\": \"Windows 11 Operating System\",\\n    \"Price\": 94990.0,\\n    \"Processor\": \"Intel Core i5 Processor (13th Gen)\",\\n    \"Rating\": 4.4,\\n    \"Storage\": \"512 GB SSD\"\\n  },\\n  {\\n    \"Display\": \"39.62 cm (15.6 Inch) Display\",\\n    \"Inclusion\": \"1 Year International Travelers Warranty (ITW)\",\\n    \"Memory\": \"16 GB DDR5 RAM\",\\n    \"Name\": \"Acer Nitro V AMD Ryzen 7 Octa Core 7735HS - (16 GB/512 GB SSD/Windows 11 Home/6 GB Graphics/NVIDIA GeF...\",\\n    \"OS\": \"Windows 11 Operating System\",\\n    \"Price\": 71990.0,\\n    \"Processor\": \"AMD Ryzen 7 Octa Core Processor\",\\n    \"Rating\": 4.3,\\n    \"Storage\": \"512 GB SSD\"\\n  },\\n  {\\n    \"Display\": \"39.62 cm (15.6 inch) Display\",\\n    \"Inclusion\": \"1 Year Onsite Warranty\",\\n    \"Memory\": \"16 GB DDR5 RAM\",\\n    \"Name\": \"ASUS TUF Gaming F15 Intel Core i7 12th Gen 12700H - (16 GB/1 TB SSD/Windows 11 Home/6 GB Graphics/NVID...\",\\n    \"OS\": \"64 bit Windows 11 Operating System\",\\n    \"Price\": 99990.0,\\n    \"Processor\": \"Intel Core i7 Processor (12th Gen)\",\\n    \"Rating\": 4.3,\\n    \"Storage\": \"1 TB SSD\"\\n  },\\n  {\\n    \"Display\": \"40.64 cm (16 inch) Display\",\\n    \"Inclusion\": \"1 Year Onsite Warranty\",\\n    \"Memory\": \"16 GB DDR4 RAM\",\\n    \"Name\": \"ASUS Vivobook 16X for Creator, Intel Core i5 12th Gen 12500H - (16 GB/512 GB SSD/Windows 11 Home/4 GB ...\",\\n    \"OS\": \"Windows 11 Operating System\",\\n    \"Price\": 70990.0,\\n    \"Processor\": \"Intel Core i5 Processor (12th Gen)\",\\n    \"Rating\": 4.3,\\n    \"Storage\": \"512 GB SSD\"\\n  },\\n  {\\n    \"Display\": \"39.62 cm (15.6 inch) Display\",\\n    \"Inclusion\": \"1 Year Onsite Warranty\",\\n    \"Memory\": \"8 GB DDR4 RAM\",\\n    \"Name\": \"Lenovo Ideapad Gaming 3 AMD Ryzen 5 Hexa Core 4600H - (8 GB/512 GB SSD/Windows 11 Home/4 GB Graphics/N...\",\\n    \"OS\": \"64 bit Windows 11 Operating System\",\\n    \"Price\": 69500.0,\\n    \"Processor\": \"AMD Ryzen 5 Hexa Core Processor\",\\n    \"Rating\": 4.3,\\n    \"Storage\": \"512 GB SSD\"\\n  }\\n]\\n'\n"
     ]
    }
   ],
   "source": [
    "## Pull the data in bytes using content\n",
    "print(r.content)"
   ]
  },
  {
   "cell_type": "code",
   "execution_count": 7,
   "metadata": {},
   "outputs": [
    {
     "data": {
      "text/plain": [
       "[{'Display': '39.62 cm (15.6 inch) Display',\n",
       "  'Inclusion': '1 Year Carry-in Warranty',\n",
       "  'Memory': '16 GB DDR5 RAM',\n",
       "  'Name': 'ASUS TUF Gaming A15 AMD Ryzen 7 Octa Core 7435HS - (16 GB/512 GB SSD/Windows 11 Home/4 GB Graphics/NVI...',\n",
       "  'OS': 'Windows 11 Home Operating System',\n",
       "  'Price': 67990.0,\n",
       "  'Processor': 'AMD Ryzen 7 Octa Core Processor',\n",
       "  'Rating': 4.3,\n",
       "  'Storage': '512 GB SSD'},\n",
       " {'Display': '39.62 cm (15.6 Inch) Display',\n",
       "  'Inclusion': '1Yr Warranty and 1 Yr Accidental Damage Protection',\n",
       "  'Memory': '12 GB DDR5 RAM',\n",
       "  'Name': 'Lenovo LOQ AMD Ryzen 5 Quad Core 7235HS - (12 GB/512 GB SSD/Windows 11 Home/6 GB Graphics/NVIDIA GeFor...',\n",
       "  'OS': 'Windows 11 Operating System',\n",
       "  'Price': 62490.0,\n",
       "  'Processor': 'AMD Ryzen 5 Quad Core Processor',\n",
       "  'Rating': 4.4,\n",
       "  'Storage': '512 GB SSD'},\n",
       " {'Display': '39.62 cm (15.6 inch) Display',\n",
       "  'Inclusion': '1Yr Warranty and 1 Yr Accidental Damage Protection',\n",
       "  'Memory': '16 GB DDR5 RAM',\n",
       "  'Name': 'Lenovo LOQ Intel Core i5 12th Gen 12450HX - (16 GB/512 GB SSD/Windows 11 Home/6 GB Graphics/NVIDIA GeF...',\n",
       "  'OS': 'Windows 11 Operating System',\n",
       "  'Price': 72890.0,\n",
       "  'Processor': 'Intel Core i5 Processor (12th Gen)',\n",
       "  'Rating': 4.3,\n",
       "  'Storage': '512 GB SSD'},\n",
       " {'Display': '39.62 cm (15.6 Inch) Display',\n",
       "  'Inclusion': '1Yr Warranty and 1 Yr Accidental Damage Protection',\n",
       "  'Memory': '24 GB DDR5 RAM',\n",
       "  'Name': 'Lenovo LOQ AMD Ryzen 5 Quad Core 7235HS - (24 GB/512 GB SSD/Windows 11 Home/6 GB Graphics/NVIDIA GeFor...',\n",
       "  'OS': 'Windows 11 Operating System',\n",
       "  'Price': 65490.0,\n",
       "  'Processor': 'AMD Ryzen 5 Quad Core Processor',\n",
       "  'Rating': 4.4,\n",
       "  'Storage': '512 GB SSD'},\n",
       " {'Display': '39.62 cm (15.6 inch) Display',\n",
       "  'Inclusion': '1 Year Carry-in Warranty',\n",
       "  'Memory': '24 GB DDR5 RAM',\n",
       "  'Name': 'Lenovo LOQ Intel Core i7 13th Gen 13650HX - (24 GB/512 GB SSD/Windows 11 Home/6 GB Graphics/NVIDIA GeF...',\n",
       "  'OS': 'Windows 11 Operating System',\n",
       "  'Price': 103690.0,\n",
       "  'Processor': 'Intel Core i7 Processor (13th Gen)',\n",
       "  'Rating': 4.3,\n",
       "  'Storage': '512 GB SSD'},\n",
       " {'Display': '39.62 cm (15.6 Inch) Display',\n",
       "  'Inclusion': '1 Year Onsite Warranty',\n",
       "  'Memory': '16 GB DDR5 RAM',\n",
       "  'Name': 'ASUS TUF Gaming A15 AMD Ryzen 5 Hexa Core 7535HS - (16 GB/512 GB SSD/Windows 11 Home/4 GB Graphics/NVI...',\n",
       "  'OS': 'Windows 11 Operating System',\n",
       "  'Price': 68990.0,\n",
       "  'Processor': 'AMD Ryzen 5 Hexa Core Processor',\n",
       "  'Rating': 4.4,\n",
       "  'Storage': '512 GB SSD'},\n",
       " {'Display': '39.62 cm (15.6 inch) Display',\n",
       "  'Inclusion': '1 Year Carry-in Warranty',\n",
       "  'Memory': '24 GB DDR5 RAM',\n",
       "  'Name': 'Lenovo LOQ Intel Core i7 13th Gen 13650HX - (24 GB/512 GB SSD/Windows 11 Home/8 GB Graphics/NVIDIA GeF...',\n",
       "  'OS': 'Windows 11 Operating System',\n",
       "  'Price': 99990.0,\n",
       "  'Processor': 'Intel Core i7 Processor (13th Gen)',\n",
       "  'Rating': 4.3,\n",
       "  'Storage': '512 GB SSD'},\n",
       " {'Display': '40.64 cm (16 Inch) Display',\n",
       "  'Inclusion': '1 Year Carry-in Warranty',\n",
       "  'Memory': '16 GB DDR5 RAM',\n",
       "  'Name': 'Acer Predator Helios Neo 16 Intel Core i7 14th Gen 14700HX - (16 GB/1 TB SSD/Windows 11 Home/6 GB Grap...',\n",
       "  'OS': 'Windows 11 Operating System',\n",
       "  'Price': 124990.0,\n",
       "  'Processor': 'Intel Core i7 Processor (14th Gen)',\n",
       "  'Rating': 4.3,\n",
       "  'Storage': '1 TB SSD'},\n",
       " {'Display': '39.62 cm (15.6 Inch) Display',\n",
       "  'Inclusion': '1Yr Warranty and 1 Yr Accidental Damage Protection',\n",
       "  'Memory': '8 GB DDR5 RAM',\n",
       "  'Name': 'Lenovo LOQ Intel Core i5 12th Gen 12450HX - (8 GB/512 GB SSD/Windows 11 Pro/4 GB Graphics/Intel Integr...',\n",
       "  'OS': 'Windows 11 Home Operating System',\n",
       "  'Price': 53490.0,\n",
       "  'Processor': 'Intel Core i5 Processor (12th Gen)',\n",
       "  'Rating': 4.3,\n",
       "  'Storage': '512 GB SSD'},\n",
       " {'Display': '40.64 cm (16 Inch) Display',\n",
       "  'Inclusion': '1 Year International Travelers Warranty (ITW)',\n",
       "  'Memory': '16 GB DDR5 RAM',\n",
       "  'Name': 'Acer Predator Neo Intel Core i5 13th Gen 13500HX - (16 GB/512 GB SSD/Windows 11 Home/6 GB Graphics/NVI...',\n",
       "  'OS': 'Windows 11 Operating System',\n",
       "  'Price': 94990.0,\n",
       "  'Processor': 'Intel Core i5 Processor (13th Gen)',\n",
       "  'Rating': 4.4,\n",
       "  'Storage': '512 GB SSD'},\n",
       " {'Display': '39.62 cm (15.6 Inch) Display',\n",
       "  'Inclusion': '1 Year International Travelers Warranty (ITW)',\n",
       "  'Memory': '16 GB DDR5 RAM',\n",
       "  'Name': 'Acer Nitro V AMD Ryzen 7 Octa Core 7735HS - (16 GB/512 GB SSD/Windows 11 Home/6 GB Graphics/NVIDIA GeF...',\n",
       "  'OS': 'Windows 11 Operating System',\n",
       "  'Price': 71990.0,\n",
       "  'Processor': 'AMD Ryzen 7 Octa Core Processor',\n",
       "  'Rating': 4.3,\n",
       "  'Storage': '512 GB SSD'},\n",
       " {'Display': '39.62 cm (15.6 inch) Display',\n",
       "  'Inclusion': '1 Year Onsite Warranty',\n",
       "  'Memory': '16 GB DDR5 RAM',\n",
       "  'Name': 'ASUS TUF Gaming F15 Intel Core i7 12th Gen 12700H - (16 GB/1 TB SSD/Windows 11 Home/6 GB Graphics/NVID...',\n",
       "  'OS': '64 bit Windows 11 Operating System',\n",
       "  'Price': 99990.0,\n",
       "  'Processor': 'Intel Core i7 Processor (12th Gen)',\n",
       "  'Rating': 4.3,\n",
       "  'Storage': '1 TB SSD'},\n",
       " {'Display': '40.64 cm (16 inch) Display',\n",
       "  'Inclusion': '1 Year Onsite Warranty',\n",
       "  'Memory': '16 GB DDR4 RAM',\n",
       "  'Name': 'ASUS Vivobook 16X for Creator, Intel Core i5 12th Gen 12500H - (16 GB/512 GB SSD/Windows 11 Home/4 GB ...',\n",
       "  'OS': 'Windows 11 Operating System',\n",
       "  'Price': 70990.0,\n",
       "  'Processor': 'Intel Core i5 Processor (12th Gen)',\n",
       "  'Rating': 4.3,\n",
       "  'Storage': '512 GB SSD'},\n",
       " {'Display': '39.62 cm (15.6 inch) Display',\n",
       "  'Inclusion': '1 Year Onsite Warranty',\n",
       "  'Memory': '8 GB DDR4 RAM',\n",
       "  'Name': 'Lenovo Ideapad Gaming 3 AMD Ryzen 5 Hexa Core 4600H - (8 GB/512 GB SSD/Windows 11 Home/4 GB Graphics/N...',\n",
       "  'OS': '64 bit Windows 11 Operating System',\n",
       "  'Price': 69500.0,\n",
       "  'Processor': 'AMD Ryzen 5 Hexa Core Processor',\n",
       "  'Rating': 4.3,\n",
       "  'Storage': '512 GB SSD'}]"
      ]
     },
     "execution_count": 7,
     "metadata": {},
     "output_type": "execute_result"
    }
   ],
   "source": [
    "## Pull the data in json formar\n",
    "json_data = r.json()\n",
    "json_data"
   ]
  },
  {
   "cell_type": "code",
   "execution_count": 8,
   "metadata": {},
   "outputs": [
    {
     "name": "stdout",
     "output_type": "stream",
     "text": [
      "[{'Display': '39.62 cm (15.6 inch) Display', 'Inclusion': '1 Year Carry-in Warranty', 'Memory': '16 GB DDR5 RAM', 'Name': 'ASUS TUF Gaming A15 AMD Ryzen 7 Octa Core 7435HS - (16 GB/512 GB SSD/Windows 11 Home/4 GB Graphics/NVI...', 'OS': 'Windows 11 Home Operating System', 'Price': 67990.0, 'Processor': 'AMD Ryzen 7 Octa Core Processor', 'Rating': 4.3, 'Storage': '512 GB SSD'}, {'Display': '39.62 cm (15.6 Inch) Display', 'Inclusion': '1Yr Warranty and 1 Yr Accidental Damage Protection', 'Memory': '12 GB DDR5 RAM', 'Name': 'Lenovo LOQ AMD Ryzen 5 Quad Core 7235HS - (12 GB/512 GB SSD/Windows 11 Home/6 GB Graphics/NVIDIA GeFor...', 'OS': 'Windows 11 Operating System', 'Price': 62490.0, 'Processor': 'AMD Ryzen 5 Quad Core Processor', 'Rating': 4.4, 'Storage': '512 GB SSD'}, {'Display': '39.62 cm (15.6 inch) Display', 'Inclusion': '1Yr Warranty and 1 Yr Accidental Damage Protection', 'Memory': '16 GB DDR5 RAM', 'Name': 'Lenovo LOQ Intel Core i5 12th Gen 12450HX - (16 GB/512 GB SSD/Windows 11 Home/6 GB Graphics/NVIDIA GeF...', 'OS': 'Windows 11 Operating System', 'Price': 72890.0, 'Processor': 'Intel Core i5 Processor (12th Gen)', 'Rating': 4.3, 'Storage': '512 GB SSD'}, {'Display': '39.62 cm (15.6 Inch) Display', 'Inclusion': '1Yr Warranty and 1 Yr Accidental Damage Protection', 'Memory': '24 GB DDR5 RAM', 'Name': 'Lenovo LOQ AMD Ryzen 5 Quad Core 7235HS - (24 GB/512 GB SSD/Windows 11 Home/6 GB Graphics/NVIDIA GeFor...', 'OS': 'Windows 11 Operating System', 'Price': 65490.0, 'Processor': 'AMD Ryzen 5 Quad Core Processor', 'Rating': 4.4, 'Storage': '512 GB SSD'}, {'Display': '39.62 cm (15.6 inch) Display', 'Inclusion': '1 Year Carry-in Warranty', 'Memory': '24 GB DDR5 RAM', 'Name': 'Lenovo LOQ Intel Core i7 13th Gen 13650HX - (24 GB/512 GB SSD/Windows 11 Home/6 GB Graphics/NVIDIA GeF...', 'OS': 'Windows 11 Operating System', 'Price': 103690.0, 'Processor': 'Intel Core i7 Processor (13th Gen)', 'Rating': 4.3, 'Storage': '512 GB SSD'}, {'Display': '39.62 cm (15.6 Inch) Display', 'Inclusion': '1 Year Onsite Warranty', 'Memory': '16 GB DDR5 RAM', 'Name': 'ASUS TUF Gaming A15 AMD Ryzen 5 Hexa Core 7535HS - (16 GB/512 GB SSD/Windows 11 Home/4 GB Graphics/NVI...', 'OS': 'Windows 11 Operating System', 'Price': 68990.0, 'Processor': 'AMD Ryzen 5 Hexa Core Processor', 'Rating': 4.4, 'Storage': '512 GB SSD'}, {'Display': '39.62 cm (15.6 inch) Display', 'Inclusion': '1 Year Carry-in Warranty', 'Memory': '24 GB DDR5 RAM', 'Name': 'Lenovo LOQ Intel Core i7 13th Gen 13650HX - (24 GB/512 GB SSD/Windows 11 Home/8 GB Graphics/NVIDIA GeF...', 'OS': 'Windows 11 Operating System', 'Price': 99990.0, 'Processor': 'Intel Core i7 Processor (13th Gen)', 'Rating': 4.3, 'Storage': '512 GB SSD'}, {'Display': '40.64 cm (16 Inch) Display', 'Inclusion': '1 Year Carry-in Warranty', 'Memory': '16 GB DDR5 RAM', 'Name': 'Acer Predator Helios Neo 16 Intel Core i7 14th Gen 14700HX - (16 GB/1 TB SSD/Windows 11 Home/6 GB Grap...', 'OS': 'Windows 11 Operating System', 'Price': 124990.0, 'Processor': 'Intel Core i7 Processor (14th Gen)', 'Rating': 4.3, 'Storage': '1 TB SSD'}, {'Display': '39.62 cm (15.6 Inch) Display', 'Inclusion': '1Yr Warranty and 1 Yr Accidental Damage Protection', 'Memory': '8 GB DDR5 RAM', 'Name': 'Lenovo LOQ Intel Core i5 12th Gen 12450HX - (8 GB/512 GB SSD/Windows 11 Pro/4 GB Graphics/Intel Integr...', 'OS': 'Windows 11 Home Operating System', 'Price': 53490.0, 'Processor': 'Intel Core i5 Processor (12th Gen)', 'Rating': 4.3, 'Storage': '512 GB SSD'}, {'Display': '40.64 cm (16 Inch) Display', 'Inclusion': '1 Year International Travelers Warranty (ITW)', 'Memory': '16 GB DDR5 RAM', 'Name': 'Acer Predator Neo Intel Core i5 13th Gen 13500HX - (16 GB/512 GB SSD/Windows 11 Home/6 GB Graphics/NVI...', 'OS': 'Windows 11 Operating System', 'Price': 94990.0, 'Processor': 'Intel Core i5 Processor (13th Gen)', 'Rating': 4.4, 'Storage': '512 GB SSD'}, {'Display': '39.62 cm (15.6 Inch) Display', 'Inclusion': '1 Year International Travelers Warranty (ITW)', 'Memory': '16 GB DDR5 RAM', 'Name': 'Acer Nitro V AMD Ryzen 7 Octa Core 7735HS - (16 GB/512 GB SSD/Windows 11 Home/6 GB Graphics/NVIDIA GeF...', 'OS': 'Windows 11 Operating System', 'Price': 71990.0, 'Processor': 'AMD Ryzen 7 Octa Core Processor', 'Rating': 4.3, 'Storage': '512 GB SSD'}, {'Display': '39.62 cm (15.6 inch) Display', 'Inclusion': '1 Year Onsite Warranty', 'Memory': '16 GB DDR5 RAM', 'Name': 'ASUS TUF Gaming F15 Intel Core i7 12th Gen 12700H - (16 GB/1 TB SSD/Windows 11 Home/6 GB Graphics/NVID...', 'OS': '64 bit Windows 11 Operating System', 'Price': 99990.0, 'Processor': 'Intel Core i7 Processor (12th Gen)', 'Rating': 4.3, 'Storage': '1 TB SSD'}, {'Display': '40.64 cm (16 inch) Display', 'Inclusion': '1 Year Onsite Warranty', 'Memory': '16 GB DDR4 RAM', 'Name': 'ASUS Vivobook 16X for Creator, Intel Core i5 12th Gen 12500H - (16 GB/512 GB SSD/Windows 11 Home/4 GB ...', 'OS': 'Windows 11 Operating System', 'Price': 70990.0, 'Processor': 'Intel Core i5 Processor (12th Gen)', 'Rating': 4.3, 'Storage': '512 GB SSD'}, {'Display': '39.62 cm (15.6 inch) Display', 'Inclusion': '1 Year Onsite Warranty', 'Memory': '8 GB DDR4 RAM', 'Name': 'Lenovo Ideapad Gaming 3 AMD Ryzen 5 Hexa Core 4600H - (8 GB/512 GB SSD/Windows 11 Home/4 GB Graphics/N...', 'OS': '64 bit Windows 11 Operating System', 'Price': 69500.0, 'Processor': 'AMD Ryzen 5 Hexa Core Processor', 'Rating': 4.3, 'Storage': '512 GB SSD'}]\n"
     ]
    }
   ],
   "source": [
    "print(json_data)  # This will show you the full data structure"
   ]
  },
  {
   "cell_type": "code",
   "execution_count": 9,
   "metadata": {},
   "outputs": [
    {
     "name": "stdout",
     "output_type": "stream",
     "text": [
      "Lenovo LOQ AMD Ryzen 5 Quad Core 7235HS - (12 GB/512 GB SSD/Windows 11 Home/6 GB Graphics/NVIDIA GeFor...\n"
     ]
    }
   ],
   "source": [
    "# Assuming json_data is the list you've printed\n",
    "print(json_data[1]['Name'])  # This will print the name of the second laptop"
   ]
  },
  {
   "cell_type": "code",
   "execution_count": 10,
   "metadata": {},
   "outputs": [
    {
     "name": "stdout",
     "output_type": "stream",
     "text": [
      "ASUS TUF Gaming A15 AMD Ryzen 7 Octa Core 7435HS - (16 GB/512 GB SSD/Windows 11 Home/4 GB Graphics/NVI...\n",
      "Lenovo LOQ AMD Ryzen 5 Quad Core 7235HS - (12 GB/512 GB SSD/Windows 11 Home/6 GB Graphics/NVIDIA GeFor...\n",
      "Lenovo LOQ Intel Core i5 12th Gen 12450HX - (16 GB/512 GB SSD/Windows 11 Home/6 GB Graphics/NVIDIA GeF...\n",
      "Lenovo LOQ AMD Ryzen 5 Quad Core 7235HS - (24 GB/512 GB SSD/Windows 11 Home/6 GB Graphics/NVIDIA GeFor...\n"
     ]
    }
   ],
   "source": [
    "## I want to pull the first 4 titles\n",
    "for i in range(4):\n",
    "    print(json_data[i]['Name'])"
   ]
  },
  {
   "cell_type": "code",
   "execution_count": 11,
   "metadata": {},
   "outputs": [
    {
     "name": "stdout",
     "output_type": "stream",
     "text": [
      "<Response [201]>\n",
      "{'display': '15.6 inch', 'name': 'New Laptop Model', 'os': 'Windows 11', 'price': 85000.0, 'processor': 'Intel Core i7', 'ram': '16 GB', 'rating': 4.5, 'ssd': '1 TB SSD', 'warranty': '2 Years Warranty'}\n"
     ]
    }
   ],
   "source": [
    "import requests\n",
    "\n",
    "# Define the data to be sent\n",
    "data = {\n",
    "    \"name\": \"New Laptop Model\",\n",
    "    \"price\": \"85000.0\",\n",
    "    \"rating\": 4.5,\n",
    "    \"processor\": \"Intel Core i7\",\n",
    "    \"ram\": \"16 GB\",\n",
    "    \"os\": \"Windows 11\",\n",
    "    \"ssd\": \"1 TB SSD\",\n",
    "    \"display\": \"15.6 inch\",\n",
    "    \"warranty\": \"2 Years Warranty\"\n",
    "}\n",
    "\n",
    "# Send the POST request with JSON data\n",
    "r = requests.post('http://127.0.0.1:5000/items', json=data)\n",
    "\n",
    "# Print the response\n",
    "print(r)\n",
    "print(r.json())  # Optionally print the JSON response content"
   ]
  }
 ],
 "metadata": {
  "kernelspec": {
   "display_name": "Python 3",
   "language": "python",
   "name": "python3"
  },
  "language_info": {
   "codemirror_mode": {
    "name": "ipython",
    "version": 3
   },
   "file_extension": ".py",
   "mimetype": "text/x-python",
   "name": "python",
   "nbconvert_exporter": "python",
   "pygments_lexer": "ipython3",
   "version": "3.13.1"
  }
 },
 "nbformat": 4,
 "nbformat_minor": 2
}
